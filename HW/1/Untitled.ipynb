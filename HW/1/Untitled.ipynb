{
 "cells": [
  {
   "cell_type": "code",
   "execution_count": 1,
   "metadata": {},
   "outputs": [],
   "source": [
    "import pandas as pd\n",
    "import numpy as np"
   ]
  },
  {
   "cell_type": "code",
   "execution_count": 2,
   "metadata": {},
   "outputs": [
    {
     "data": {
      "text/html": [
       "<div>\n",
       "<style scoped>\n",
       "    .dataframe tbody tr th:only-of-type {\n",
       "        vertical-align: middle;\n",
       "    }\n",
       "\n",
       "    .dataframe tbody tr th {\n",
       "        vertical-align: top;\n",
       "    }\n",
       "\n",
       "    .dataframe thead th {\n",
       "        text-align: right;\n",
       "    }\n",
       "</style>\n",
       "<table border=\"1\" class=\"dataframe\">\n",
       "  <thead>\n",
       "    <tr style=\"text-align: right;\">\n",
       "      <th></th>\n",
       "      <th>sbp</th>\n",
       "      <th>tobacco</th>\n",
       "      <th>ldl</th>\n",
       "      <th>adiposity</th>\n",
       "      <th>famhist</th>\n",
       "      <th>typea</th>\n",
       "      <th>obesity</th>\n",
       "      <th>alcohol</th>\n",
       "      <th>age</th>\n",
       "      <th>chd</th>\n",
       "    </tr>\n",
       "  </thead>\n",
       "  <tbody>\n",
       "    <tr>\n",
       "      <th>0</th>\n",
       "      <td>160</td>\n",
       "      <td>12.00</td>\n",
       "      <td>5.73</td>\n",
       "      <td>23.11</td>\n",
       "      <td>Present</td>\n",
       "      <td>49</td>\n",
       "      <td>25.30</td>\n",
       "      <td>97.20</td>\n",
       "      <td>52</td>\n",
       "      <td>1</td>\n",
       "    </tr>\n",
       "    <tr>\n",
       "      <th>1</th>\n",
       "      <td>144</td>\n",
       "      <td>0.01</td>\n",
       "      <td>4.41</td>\n",
       "      <td>28.61</td>\n",
       "      <td>Absent</td>\n",
       "      <td>55</td>\n",
       "      <td>28.87</td>\n",
       "      <td>2.06</td>\n",
       "      <td>63</td>\n",
       "      <td>1</td>\n",
       "    </tr>\n",
       "    <tr>\n",
       "      <th>2</th>\n",
       "      <td>118</td>\n",
       "      <td>0.08</td>\n",
       "      <td>3.48</td>\n",
       "      <td>32.28</td>\n",
       "      <td>Present</td>\n",
       "      <td>52</td>\n",
       "      <td>29.14</td>\n",
       "      <td>3.81</td>\n",
       "      <td>46</td>\n",
       "      <td>0</td>\n",
       "    </tr>\n",
       "  </tbody>\n",
       "</table>\n",
       "</div>"
      ],
      "text/plain": [
       "   sbp  tobacco   ldl  adiposity  famhist  typea  obesity  alcohol  age  chd\n",
       "0  160    12.00  5.73      23.11  Present     49    25.30    97.20   52    1\n",
       "1  144     0.01  4.41      28.61   Absent     55    28.87     2.06   63    1\n",
       "2  118     0.08  3.48      32.28  Present     52    29.14     3.81   46    0"
      ]
     },
     "execution_count": 2,
     "metadata": {},
     "output_type": "execute_result"
    }
   ],
   "source": [
    "chd = pd.read_csv('CHDdata.csv')\n",
    "chd.head(3)"
   ]
  },
  {
   "cell_type": "code",
   "execution_count": 3,
   "metadata": {},
   "outputs": [],
   "source": [
    "cont_columns = ['sbp', 'tobacco', 'ldl', 'adiposity', 'typea', 'obesity', 'alcohol', 'age']"
   ]
  },
  {
   "cell_type": "code",
   "execution_count": 4,
   "metadata": {},
   "outputs": [
    {
     "data": {
      "text/html": [
       "<div>\n",
       "<style scoped>\n",
       "    .dataframe tbody tr th:only-of-type {\n",
       "        vertical-align: middle;\n",
       "    }\n",
       "\n",
       "    .dataframe tbody tr th {\n",
       "        vertical-align: top;\n",
       "    }\n",
       "\n",
       "    .dataframe thead th {\n",
       "        text-align: right;\n",
       "    }\n",
       "</style>\n",
       "<table border=\"1\" class=\"dataframe\">\n",
       "  <thead>\n",
       "    <tr style=\"text-align: right;\">\n",
       "      <th></th>\n",
       "      <th>sbp</th>\n",
       "      <th>tobacco</th>\n",
       "      <th>ldl</th>\n",
       "      <th>adiposity</th>\n",
       "      <th>famhist</th>\n",
       "      <th>typea</th>\n",
       "      <th>obesity</th>\n",
       "      <th>alcohol</th>\n",
       "      <th>age</th>\n",
       "      <th>chd</th>\n",
       "    </tr>\n",
       "  </thead>\n",
       "  <tbody>\n",
       "    <tr>\n",
       "      <th>0</th>\n",
       "      <td>1.057417</td>\n",
       "      <td>1.821099</td>\n",
       "      <td>0.477894</td>\n",
       "      <td>-0.295183</td>\n",
       "      <td>Present</td>\n",
       "      <td>-0.418017</td>\n",
       "      <td>-0.176594</td>\n",
       "      <td>3.274189</td>\n",
       "      <td>0.628654</td>\n",
       "      <td>1</td>\n",
       "    </tr>\n",
       "    <tr>\n",
       "      <th>1</th>\n",
       "      <td>0.276789</td>\n",
       "      <td>-0.789382</td>\n",
       "      <td>-0.159507</td>\n",
       "      <td>0.411694</td>\n",
       "      <td>Absent</td>\n",
       "      <td>0.193134</td>\n",
       "      <td>0.670646</td>\n",
       "      <td>-0.612081</td>\n",
       "      <td>1.381617</td>\n",
       "      <td>1</td>\n",
       "    </tr>\n",
       "    <tr>\n",
       "      <th>2</th>\n",
       "      <td>-0.991731</td>\n",
       "      <td>-0.774141</td>\n",
       "      <td>-0.608585</td>\n",
       "      <td>0.883374</td>\n",
       "      <td>Present</td>\n",
       "      <td>-0.112441</td>\n",
       "      <td>0.734723</td>\n",
       "      <td>-0.540597</td>\n",
       "      <td>0.217947</td>\n",
       "      <td>0</td>\n",
       "    </tr>\n",
       "    <tr>\n",
       "      <th>3</th>\n",
       "      <td>1.545310</td>\n",
       "      <td>0.841352</td>\n",
       "      <td>0.806252</td>\n",
       "      <td>1.622382</td>\n",
       "      <td>Present</td>\n",
       "      <td>-0.214300</td>\n",
       "      <td>1.411091</td>\n",
       "      <td>0.294742</td>\n",
       "      <td>1.039361</td>\n",
       "      <td>1</td>\n",
       "    </tr>\n",
       "    <tr>\n",
       "      <th>4</th>\n",
       "      <td>-0.211103</td>\n",
       "      <td>2.169453</td>\n",
       "      <td>-0.598928</td>\n",
       "      <td>0.305020</td>\n",
       "      <td>Present</td>\n",
       "      <td>0.702427</td>\n",
       "      <td>-0.012842</td>\n",
       "      <td>1.645991</td>\n",
       "      <td>0.423301</td>\n",
       "      <td>1</td>\n",
       "    </tr>\n",
       "  </tbody>\n",
       "</table>\n",
       "</div>"
      ],
      "text/plain": [
       "        sbp   tobacco       ldl  adiposity  famhist     typea   obesity  \\\n",
       "0  1.057417  1.821099  0.477894  -0.295183  Present -0.418017 -0.176594   \n",
       "1  0.276789 -0.789382 -0.159507   0.411694   Absent  0.193134  0.670646   \n",
       "2 -0.991731 -0.774141 -0.608585   0.883374  Present -0.112441  0.734723   \n",
       "3  1.545310  0.841352  0.806252   1.622382  Present -0.214300  1.411091   \n",
       "4 -0.211103  2.169453 -0.598928   0.305020  Present  0.702427 -0.012842   \n",
       "\n",
       "    alcohol       age  chd  \n",
       "0  3.274189  0.628654    1  \n",
       "1 -0.612081  1.381617    1  \n",
       "2 -0.540597  0.217947    0  \n",
       "3  0.294742  1.039361    1  \n",
       "4  1.645991  0.423301    1  "
      ]
     },
     "execution_count": 4,
     "metadata": {},
     "output_type": "execute_result"
    }
   ],
   "source": [
    "for column in cont_columns:\n",
    "    X = chd[[column]]\n",
    "    mu = chd[[column]].mean()\n",
    "    sd = chd[[column]].std()\n",
    "    chd[column] = (X - mu) / sd\n",
    "chd.head()"
   ]
  },
  {
   "cell_type": "code",
   "execution_count": 5,
   "metadata": {},
   "outputs": [
    {
     "data": {
      "text/html": [
       "<div>\n",
       "<style scoped>\n",
       "    .dataframe tbody tr th:only-of-type {\n",
       "        vertical-align: middle;\n",
       "    }\n",
       "\n",
       "    .dataframe tbody tr th {\n",
       "        vertical-align: top;\n",
       "    }\n",
       "\n",
       "    .dataframe thead th {\n",
       "        text-align: right;\n",
       "    }\n",
       "</style>\n",
       "<table border=\"1\" class=\"dataframe\">\n",
       "  <thead>\n",
       "    <tr style=\"text-align: right;\">\n",
       "      <th></th>\n",
       "      <th>sbp</th>\n",
       "      <th>tobacco</th>\n",
       "      <th>ldl</th>\n",
       "      <th>adiposity</th>\n",
       "      <th>famhist</th>\n",
       "      <th>typea</th>\n",
       "      <th>obesity</th>\n",
       "      <th>alcohol</th>\n",
       "      <th>age</th>\n",
       "      <th>chd</th>\n",
       "    </tr>\n",
       "  </thead>\n",
       "  <tbody>\n",
       "    <tr>\n",
       "      <th>2</th>\n",
       "      <td>-0.991731</td>\n",
       "      <td>-0.774141</td>\n",
       "      <td>-0.608585</td>\n",
       "      <td>0.883374</td>\n",
       "      <td>Present</td>\n",
       "      <td>-0.112441</td>\n",
       "      <td>0.734723</td>\n",
       "      <td>-0.540597</td>\n",
       "      <td>0.217947</td>\n",
       "      <td>0</td>\n",
       "    </tr>\n",
       "    <tr>\n",
       "      <th>5</th>\n",
       "      <td>-0.308682</td>\n",
       "      <td>0.558314</td>\n",
       "      <td>0.835225</td>\n",
       "      <td>1.388470</td>\n",
       "      <td>Present</td>\n",
       "      <td>0.906144</td>\n",
       "      <td>1.121558</td>\n",
       "      <td>-0.118638</td>\n",
       "      <td>0.149496</td>\n",
       "      <td>0</td>\n",
       "    </tr>\n",
       "    <tr>\n",
       "      <th>6</th>\n",
       "      <td>0.179211</td>\n",
       "      <td>0.090213</td>\n",
       "      <td>-0.656873</td>\n",
       "      <td>-1.183278</td>\n",
       "      <td>Absent</td>\n",
       "      <td>0.600569</td>\n",
       "      <td>-1.242171</td>\n",
       "      <td>-0.589206</td>\n",
       "      <td>-0.329662</td>\n",
       "      <td>0</td>\n",
       "    </tr>\n",
       "    <tr>\n",
       "      <th>8</th>\n",
       "      <td>-1.186888</td>\n",
       "      <td>-0.791559</td>\n",
       "      <td>-0.439577</td>\n",
       "      <td>-0.772004</td>\n",
       "      <td>Present</td>\n",
       "      <td>-0.418017</td>\n",
       "      <td>-0.281016</td>\n",
       "      <td>-0.594517</td>\n",
       "      <td>-0.945722</td>\n",
       "      <td>0</td>\n",
       "    </tr>\n",
       "    <tr>\n",
       "      <th>12</th>\n",
       "      <td>-0.991731</td>\n",
       "      <td>-0.791559</td>\n",
       "      <td>-1.381193</td>\n",
       "      <td>-1.973696</td>\n",
       "      <td>Absent</td>\n",
       "      <td>0.600569</td>\n",
       "      <td>-1.061806</td>\n",
       "      <td>-0.696228</td>\n",
       "      <td>-1.767136</td>\n",
       "      <td>0</td>\n",
       "    </tr>\n",
       "    <tr>\n",
       "      <th>...</th>\n",
       "      <td>...</td>\n",
       "      <td>...</td>\n",
       "      <td>...</td>\n",
       "      <td>...</td>\n",
       "      <td>...</td>\n",
       "      <td>...</td>\n",
       "      <td>...</td>\n",
       "      <td>...</td>\n",
       "      <td>...</td>\n",
       "      <td>...</td>\n",
       "    </tr>\n",
       "    <tr>\n",
       "      <th>452</th>\n",
       "      <td>0.764682</td>\n",
       "      <td>0.412441</td>\n",
       "      <td>-0.743792</td>\n",
       "      <td>0.437399</td>\n",
       "      <td>Present</td>\n",
       "      <td>0.804286</td>\n",
       "      <td>0.025129</td>\n",
       "      <td>1.051654</td>\n",
       "      <td>-0.055857</td>\n",
       "      <td>0</td>\n",
       "    </tr>\n",
       "    <tr>\n",
       "      <th>456</th>\n",
       "      <td>1.545310</td>\n",
       "      <td>-0.704470</td>\n",
       "      <td>-0.304371</td>\n",
       "      <td>2.140331</td>\n",
       "      <td>Present</td>\n",
       "      <td>0.294993</td>\n",
       "      <td>1.674519</td>\n",
       "      <td>-0.612081</td>\n",
       "      <td>0.970910</td>\n",
       "      <td>0</td>\n",
       "    </tr>\n",
       "    <tr>\n",
       "      <th>457</th>\n",
       "      <td>3.692037</td>\n",
       "      <td>-0.704470</td>\n",
       "      <td>0.598614</td>\n",
       "      <td>0.811401</td>\n",
       "      <td>Absent</td>\n",
       "      <td>1.109862</td>\n",
       "      <td>0.570971</td>\n",
       "      <td>-0.696228</td>\n",
       "      <td>1.039361</td>\n",
       "      <td>0</td>\n",
       "    </tr>\n",
       "    <tr>\n",
       "      <th>459</th>\n",
       "      <td>-1.479624</td>\n",
       "      <td>-0.138395</td>\n",
       "      <td>-1.521228</td>\n",
       "      <td>-1.307946</td>\n",
       "      <td>Absent</td>\n",
       "      <td>-1.334744</td>\n",
       "      <td>-1.413043</td>\n",
       "      <td>0.391960</td>\n",
       "      <td>0.834008</td>\n",
       "      <td>0</td>\n",
       "    </tr>\n",
       "    <tr>\n",
       "      <th>460</th>\n",
       "      <td>-0.991731</td>\n",
       "      <td>0.384137</td>\n",
       "      <td>3.317227</td>\n",
       "      <td>0.691875</td>\n",
       "      <td>Absent</td>\n",
       "      <td>1.109862</td>\n",
       "      <td>0.309916</td>\n",
       "      <td>0.282897</td>\n",
       "      <td>-0.192760</td>\n",
       "      <td>0</td>\n",
       "    </tr>\n",
       "  </tbody>\n",
       "</table>\n",
       "<p>302 rows × 10 columns</p>\n",
       "</div>"
      ],
      "text/plain": [
       "          sbp   tobacco       ldl  adiposity  famhist     typea   obesity  \\\n",
       "2   -0.991731 -0.774141 -0.608585   0.883374  Present -0.112441  0.734723   \n",
       "5   -0.308682  0.558314  0.835225   1.388470  Present  0.906144  1.121558   \n",
       "6    0.179211  0.090213 -0.656873  -1.183278   Absent  0.600569 -1.242171   \n",
       "8   -1.186888 -0.791559 -0.439577  -0.772004  Present -0.418017 -0.281016   \n",
       "12  -0.991731 -0.791559 -1.381193  -1.973696   Absent  0.600569 -1.061806   \n",
       "..        ...       ...       ...        ...      ...       ...       ...   \n",
       "452  0.764682  0.412441 -0.743792   0.437399  Present  0.804286  0.025129   \n",
       "456  1.545310 -0.704470 -0.304371   2.140331  Present  0.294993  1.674519   \n",
       "457  3.692037 -0.704470  0.598614   0.811401   Absent  1.109862  0.570971   \n",
       "459 -1.479624 -0.138395 -1.521228  -1.307946   Absent -1.334744 -1.413043   \n",
       "460 -0.991731  0.384137  3.317227   0.691875   Absent  1.109862  0.309916   \n",
       "\n",
       "      alcohol       age  chd  \n",
       "2   -0.540597  0.217947    0  \n",
       "5   -0.118638  0.149496    0  \n",
       "6   -0.589206 -0.329662    0  \n",
       "8   -0.594517 -0.945722    0  \n",
       "12  -0.696228 -1.767136    0  \n",
       "..        ...       ...  ...  \n",
       "452  1.051654 -0.055857    0  \n",
       "456 -0.612081  0.970910    0  \n",
       "457 -0.696228  1.039361    0  \n",
       "459  0.391960  0.834008    0  \n",
       "460  0.282897 -0.192760    0  \n",
       "\n",
       "[302 rows x 10 columns]"
      ]
     },
     "execution_count": 5,
     "metadata": {},
     "output_type": "execute_result"
    }
   ],
   "source": [
    "chd_no = chd[chd['chd'] == 0]\n",
    "chd_yes = chd[chd['chd'] == 1]\n",
    "chd_no"
   ]
  },
  {
   "cell_type": "markdown",
   "metadata": {},
   "source": [
    "## Without CHD:\n",
    "\n",
    "prior ~ $N(\\mu_0, vw^-1)$"
   ]
  },
  {
   "cell_type": "code",
   "execution_count": 6,
   "metadata": {},
   "outputs": [
    {
     "data": {
      "text/plain": [
       "array([0, 0, 0, 0, 0, 0, 0, 0])"
      ]
     },
     "execution_count": 6,
     "metadata": {},
     "output_type": "execute_result"
    }
   ],
   "source": [
    "mu_zero = np.array([0] * 8)\n",
    "mu_zero"
   ]
  },
  {
   "cell_type": "code",
   "execution_count": 7,
   "metadata": {},
   "outputs": [
    {
     "data": {
      "text/plain": [
       "array([1, 1, 1, 1, 1, 1, 1, 1])"
      ]
     },
     "execution_count": 7,
     "metadata": {},
     "output_type": "execute_result"
    }
   ],
   "source": [
    "variance = np.array([1] * 8)\n",
    "variance"
   ]
  },
  {
   "cell_type": "code",
   "execution_count": 8,
   "metadata": {},
   "outputs": [
    {
     "data": {
      "text/plain": [
       "array([-0.13985805, -0.21792053, -0.19126202, -0.1847682 , -0.0750032 ,\n",
       "       -0.07277776, -0.0454652 , -0.27118382])"
      ]
     },
     "execution_count": 8,
     "metadata": {},
     "output_type": "execute_result"
    }
   ],
   "source": [
    "x_bar_no = np.array([])\n",
    "\n",
    "for column in cont_columns:\n",
    "    mean = chd_no[[column]].mean()\n",
    "    x_bar_no = np.append(x_bar_no, mean) \n",
    "x_bar_no"
   ]
  },
  {
   "cell_type": "code",
   "execution_count": 9,
   "metadata": {},
   "outputs": [
    {
     "data": {
      "text/plain": [
       "array([-0.13939647, -0.21720132, -0.19063079, -0.1841584 , -0.07475566,\n",
       "       -0.07253757, -0.04531515, -0.27028883])"
      ]
     },
     "execution_count": 9,
     "metadata": {},
     "output_type": "execute_result"
    }
   ],
   "source": [
    "mu_post_no = (1 * mu_zero + 302 * x_bar_no) / (1 + 302)\n",
    "mu_post_no"
   ]
  },
  {
   "cell_type": "code",
   "execution_count": 10,
   "metadata": {},
   "outputs": [
    {
     "data": {
      "text/plain": [
       "array([[1, 0, 0, 0, 0, 0, 0, 0],\n",
       "       [0, 1, 0, 0, 0, 0, 0, 0],\n",
       "       [0, 0, 1, 0, 0, 0, 0, 0],\n",
       "       [0, 0, 0, 1, 0, 0, 0, 0],\n",
       "       [0, 0, 0, 0, 1, 0, 0, 0],\n",
       "       [0, 0, 0, 0, 0, 1, 0, 0],\n",
       "       [0, 0, 0, 0, 0, 0, 1, 0],\n",
       "       [0, 0, 0, 0, 0, 0, 0, 1]])"
      ]
     },
     "execution_count": 10,
     "metadata": {},
     "output_type": "execute_result"
    }
   ],
   "source": [
    "r_prior = np.zeros((8, 8), int)\n",
    "np.fill_diagonal(r_prior, 1)\n",
    "r_prior"
   ]
  },
  {
   "cell_type": "code",
   "execution_count": 11,
   "metadata": {},
   "outputs": [
    {
     "name": "stdout",
     "output_type": "stream",
     "text": [
      "(8, 302)\n"
     ]
    }
   ],
   "source": [
    "X_no = np.matrix(chd_no[cont_columns]).T\n",
    "print(X_no.shape)"
   ]
  },
  {
   "cell_type": "code",
   "execution_count": 12,
   "metadata": {},
   "outputs": [
    {
     "data": {
      "text/plain": [
       "array([[-0.13985805],\n",
       "       [-0.21792053],\n",
       "       [-0.19126202],\n",
       "       [-0.1847682 ],\n",
       "       [-0.0750032 ],\n",
       "       [-0.07277776],\n",
       "       [-0.0454652 ],\n",
       "       [-0.27118382]])"
      ]
     },
     "execution_count": 12,
     "metadata": {},
     "output_type": "execute_result"
    }
   ],
   "source": [
    "x_bar_no = x_bar_no.reshape(8,1)\n",
    "x_bar_no"
   ]
  },
  {
   "cell_type": "code",
   "execution_count": 13,
   "metadata": {},
   "outputs": [
    {
     "data": {
      "text/plain": [
       "matrix([[231.75732164,  38.1620866 ,  36.81784987, 108.04346942,\n",
       "         -19.59062166,  78.83714706,  42.50297084, 106.84057209],\n",
       "        [ 38.1620866 , 186.16046147,  49.08759628,  77.82408035,\n",
       "           4.79937872,  39.20489751,  44.86510761, 111.74557121],\n",
       "        [ 36.81784987,  49.08759628, 245.54644287, 110.61616522,\n",
       "           2.58565561,  84.87583297,  10.71348653,  85.71136939],\n",
       "        [108.04346942,  77.82408035, 110.61616522, 300.39505707,\n",
       "         -26.59933596, 207.53156066,  61.79776195, 202.29759953],\n",
       "        [-19.59062166,   4.79937872,   2.58565561, -26.59933596,\n",
       "         282.89144199,   9.60896102,  25.26336701, -36.79879555],\n",
       "        [ 78.83714706,  39.20489751,  84.87583297, 207.53156066,\n",
       "           9.60896102, 283.6921807 ,  42.5066729 , 100.5469803 ],\n",
       "        [ 42.50297084,  44.86510761,  10.71348653,  61.79776195,\n",
       "          25.26336701,  42.5066729 , 277.34775473,  45.00659129],\n",
       "        [106.84057209, 111.74557121,  85.71136939, 202.29759953,\n",
       "         -36.79879555, 100.5469803 ,  45.00659129, 312.38443897]])"
      ]
     },
     "execution_count": 13,
     "metadata": {},
     "output_type": "execute_result"
    }
   ],
   "source": [
    "S_no = (X_no - x_bar_no) @ (X_no - x_bar_no).T\n",
    "S_no"
   ]
  },
  {
   "cell_type": "code",
   "execution_count": 14,
   "metadata": {},
   "outputs": [
    {
     "data": {
      "text/plain": [
       "matrix([[232.91328739,  38.40510543,  37.03113987, 108.2495177 ,\n",
       "         -19.50698021,  78.91830677,  42.55367235, 107.14298864],\n",
       "        [ 38.40510543, 187.5391225 ,  49.41993519,  78.14513552,\n",
       "           4.92970507,  39.33135692,  44.94410843, 112.21678309],\n",
       "        [ 37.03113987,  49.41993519, 246.8381263 , 110.89794528,\n",
       "           2.70003895,  84.98682243,  10.78282308,  86.12493728],\n",
       "        [108.2495177 ,  78.14513552, 110.89794528, 301.66726999,\n",
       "         -26.48883621, 207.63878175,  61.86474435, 202.69712576],\n",
       "        [-19.50698021,   4.92970507,   2.70003895, -26.48883621,\n",
       "         283.9362973 ,   9.65248542,  25.29055726, -36.63661535],\n",
       "        [ 78.91830677,  39.33135692,  84.98682243, 207.63878175,\n",
       "           9.65248542, 284.73441368,  42.53305638, 100.70434843],\n",
       "        [ 42.55367235,  44.94410843,  10.78282308,  61.86474435,\n",
       "          25.29055726,  42.53305638, 278.36423683,  45.10490119],\n",
       "        [107.14298864, 112.21678309,  86.12493728, 202.69712576,\n",
       "         -36.63661535, 100.70434843,  45.10490119, 313.97082264]])"
      ]
     },
     "execution_count": 14,
     "metadata": {},
     "output_type": "execute_result"
    }
   ],
   "source": [
    "r_post_no = r_prior + S_no + (((1 * 302) / (1 + 302)) * ((mu_zero - x_bar_no) @ (mu_zero - x_bar_no).T))\n",
    "r_post_no"
   ]
  },
  {
   "cell_type": "markdown",
   "metadata": {},
   "source": [
    "## With CHD:\n",
    "\n",
    "prior ~ $N(\\mu_0, vw^-1)$"
   ]
  },
  {
   "cell_type": "code",
   "execution_count": 15,
   "metadata": {},
   "outputs": [
    {
     "data": {
      "text/plain": [
       "array([0.26398207, 0.411325  , 0.36100706, 0.34874997, 0.14156853,\n",
       "       0.13736803, 0.08581557, 0.51185947])"
      ]
     },
     "execution_count": 15,
     "metadata": {},
     "output_type": "execute_result"
    }
   ],
   "source": [
    "x_bar_yes = np.array([])\n",
    "\n",
    "for column in cont_columns:\n",
    "    mean = chd_yes[[column]].mean()\n",
    "    x_bar_yes = np.append(x_bar_yes, mean) \n",
    "x_bar_yes"
   ]
  },
  {
   "cell_type": "code",
   "execution_count": 16,
   "metadata": {},
   "outputs": [
    {
     "data": {
      "text/plain": [
       "array([0.26234243, 0.40877019, 0.35876478, 0.34658382, 0.14068922,\n",
       "       0.13651481, 0.08528256, 0.50868022])"
      ]
     },
     "execution_count": 16,
     "metadata": {},
     "output_type": "execute_result"
    }
   ],
   "source": [
    "mu_post_yes = (1 * mu_zero + 160 * x_bar_yes) / (1 + 160)\n",
    "mu_post_yes"
   ]
  },
  {
   "cell_type": "code",
   "execution_count": 17,
   "metadata": {},
   "outputs": [
    {
     "data": {
      "text/plain": [
       "array([[1, 0, 0, 0, 0, 0, 0, 0],\n",
       "       [0, 1, 0, 0, 0, 0, 0, 0],\n",
       "       [0, 0, 1, 0, 0, 0, 0, 0],\n",
       "       [0, 0, 0, 1, 0, 0, 0, 0],\n",
       "       [0, 0, 0, 0, 1, 0, 0, 0],\n",
       "       [0, 0, 0, 0, 0, 1, 0, 0],\n",
       "       [0, 0, 0, 0, 0, 0, 1, 0],\n",
       "       [0, 0, 0, 0, 0, 0, 0, 1]])"
      ]
     },
     "execution_count": 17,
     "metadata": {},
     "output_type": "execute_result"
    }
   ],
   "source": [
    "r_prior = np.zeros((8, 8), int)\n",
    "np.fill_diagonal(r_prior, 1)\n",
    "r_prior"
   ]
  },
  {
   "cell_type": "code",
   "execution_count": 25,
   "metadata": {},
   "outputs": [
    {
     "name": "stdout",
     "output_type": "stream",
     "text": [
      "[[ 1.05741729  0.27678925  1.54530982 ... -0.5038388   2.13078085\n",
      "  -0.30868179]\n",
      " [ 1.8210988  -0.78938174  0.84135214 ... -0.30386284  0.12287126\n",
      "  -0.79155896]\n",
      " [ 0.47789413 -0.15950708  0.80625232 ... -0.92245701 -0.15950708\n",
      "   0.0384736 ]\n",
      " ...\n",
      " [-0.17659445  0.67064592  1.41109128 ... -0.49460624  0.60894214\n",
      "  -2.69221012]\n",
      " [ 3.27418871 -0.61208112  0.2947424  ...  1.24077992  0.068445\n",
      "  -0.69622781]\n",
      " [ 0.62865426  1.38161701  1.03936121 ... -1.08262472  0.62865426\n",
      "   0.2179473 ]]\n"
     ]
    }
   ],
   "source": [
    "X_yes = np.matrix(chd_yes[cont_columns]).T\n",
    "print(X_yes)"
   ]
  },
  {
   "cell_type": "code",
   "execution_count": 19,
   "metadata": {},
   "outputs": [],
   "source": [
    "x_bar_yes = x_bar_yes.reshape(8,1)"
   ]
  },
  {
   "cell_type": "code",
   "execution_count": 20,
   "metadata": {},
   "outputs": [
    {
     "data": {
      "text/plain": [
       "matrix([[212.18563061,  33.10603524,  12.83049601,  33.76879135,\n",
       "         -16.04318491,  22.03560466,  16.5361719 ,  39.30917132],\n",
       "        [ 33.10603524, 233.42763083, -12.17811298,  19.20523083,\n",
       "         -25.78663014,   4.37304657,  39.07001484,  44.32298661],\n",
       "        [ 12.83049601, -12.17811298, 183.55387158,  61.60626138,\n",
       "           5.21084965,  55.34910879, -33.69537903,  12.79861238],\n",
       "        [ 33.76879135,  19.20523083,  61.60626138, 130.83463191,\n",
       "          -5.37458308, 111.07473655, -22.87104095,  42.57357449],\n",
       "        [-16.04318491, -25.78663014,   5.21084965,  -5.37458308,\n",
       "         173.20299933,  19.74784706, -10.02845285, -28.23940397],\n",
       "        [ 22.03560466,   4.37304657,  55.34910879, 111.07473655,\n",
       "          19.74784706, 172.68904919, -21.59545679,  16.7518568 ],\n",
       "        [ 16.5361719 ,  39.07001484, -33.69537903, -22.87104095,\n",
       "         -10.02845285, -21.59545679, 181.84969568,  -9.13969883],\n",
       "        [ 39.30917132,  44.32298661,  12.79861238,  42.57357449,\n",
       "         -28.23940397,  16.7518568 ,  -9.13969883,  84.48626119]])"
      ]
     },
     "execution_count": 20,
     "metadata": {},
     "output_type": "execute_result"
    }
   ],
   "source": [
    "S_yes = (X_yes - x_bar_yes) @ (X_yes - x_bar_yes).T\n",
    "S_yes"
   ]
  },
  {
   "cell_type": "code",
   "execution_count": 22,
   "metadata": {},
   "outputs": [
    {
     "data": {
      "text/plain": [
       "matrix([[213.73966018,  33.96929924,  13.58815576,  34.50072666,\n",
       "         -15.74606945,  22.32390436,  16.71627642,  40.38343097],\n",
       "        [ 33.96929924, 235.77273003, -10.99756158,  20.34569956,\n",
       "         -25.32367817,   4.82226221,  39.35064563,  45.99684975],\n",
       "        [ 13.58815576, -10.99756158, 185.59000452,  62.60721503,\n",
       "           5.61716807,  55.74337127, -33.44907819,  14.26770958],\n",
       "        [ 34.50072666,  20.34569956,  62.60721503, 132.80160068,\n",
       "          -4.98206018, 111.45561284, -22.63310264,  43.99279217],\n",
       "        [-15.74606945, -25.32367817,   5.61716807,  -4.98206018,\n",
       "         174.36233667,  19.90245667,  -9.93186624, -27.66329908],\n",
       "        [ 22.32390436,   4.82226221,  55.74337127, 111.45561284,\n",
       "          19.90245667, 173.83907135, -21.50173602,  17.31086799],\n",
       "        [ 16.71627642,  39.35064563, -33.44907819, -22.63310264,\n",
       "          -9.93186624, -21.50173602, 182.90824425,  -8.79047736],\n",
       "        [ 40.38343097,  45.99684975,  14.26770958,  43.99279217,\n",
       "         -27.66329908,  17.31086799,  -8.79047736,  87.56924347]])"
      ]
     },
     "execution_count": 22,
     "metadata": {},
     "output_type": "execute_result"
    }
   ],
   "source": [
    "r_post_yes = r_prior + S_yes + ((1 * 160) / (1 + 160)) * ( (mu_zero - x_bar_yes) @ (mu_zero - x_bar_yes).T )\n",
    "r_post_yes"
   ]
  },
  {
   "cell_type": "code",
   "execution_count": 23,
   "metadata": {},
   "outputs": [
    {
     "data": {
      "text/plain": [
       "matrix([[ 5.26654862e-03, -2.00060549e-04, -1.15005512e-04,\n",
       "         -6.17524475e-04,  9.26706413e-05, -1.28392792e-04,\n",
       "         -6.42116631e-04, -2.00447092e-03],\n",
       "        [-2.00060549e-04,  5.01388425e-03,  3.76766127e-04,\n",
       "         -2.56443250e-04,  2.24789626e-04,  1.55568029e-05,\n",
       "         -1.13027612e-03, -2.51942602e-03],\n",
       "        [-1.15005512e-04,  3.76766127e-04,  6.58935773e-03,\n",
       "         -3.08797668e-03, -1.47595399e-04, -5.55750249e-05,\n",
       "          7.55748455e-04,  3.73080789e-04],\n",
       "        [-6.17524475e-04, -2.56443250e-04, -3.08797668e-03,\n",
       "          2.22658215e-02,  9.16993647e-04, -1.24971290e-02,\n",
       "          5.24707023e-04, -7.45042773e-03],\n",
       "        [ 9.26706413e-05,  2.24789626e-04, -1.47595399e-04,\n",
       "          9.16993647e-04,  6.25113074e-03, -1.40689730e-03,\n",
       "          2.84626578e-04,  1.68399628e-03],\n",
       "        [-1.28392792e-04,  1.55568029e-05, -5.55750249e-05,\n",
       "         -1.24971290e-02, -1.40689730e-03,  1.36571173e-02,\n",
       "          1.35052945e-04,  3.20771424e-03],\n",
       "        [-6.42116631e-04, -1.13027612e-03,  7.55748455e-04,\n",
       "          5.24707023e-04,  2.84626578e-04,  1.35052945e-04,\n",
       "          6.05998862e-03,  1.17461225e-03],\n",
       "        [-2.00447092e-03, -2.51942602e-03,  3.73080789e-04,\n",
       "         -7.45042773e-03,  1.68399628e-03,  3.20771424e-03,\n",
       "          1.17461225e-03,  1.73651970e-02]])"
      ]
     },
     "execution_count": 23,
     "metadata": {},
     "output_type": "execute_result"
    }
   ],
   "source": [
    "np.linalg.inv(r_post_yes)"
   ]
  },
  {
   "cell_type": "code",
   "execution_count": 24,
   "metadata": {},
   "outputs": [
    {
     "data": {
      "text/plain": [
       "array([0.4017389 , 0.62597151, 0.54939557, 0.53074222, 0.21544489,\n",
       "       0.20905238, 0.13059771, 0.77896905])"
      ]
     },
     "execution_count": 24,
     "metadata": {},
     "output_type": "execute_result"
    }
   ],
   "source": [
    "D = abs(mu_post_no - mu_post_yes)\n",
    "D"
   ]
  },
  {
   "cell_type": "code",
   "execution_count": 26,
   "metadata": {},
   "outputs": [
    {
     "data": {
      "text/plain": [
       "0.009561258278145695"
      ]
     },
     "execution_count": 26,
     "metadata": {},
     "output_type": "execute_result"
    }
   ],
   "source": [
    "first_term = ((1 / 302) + (1 / 160))\n",
    "first_term"
   ]
  },
  {
   "cell_type": "code",
   "execution_count": 35,
   "metadata": {},
   "outputs": [
    {
     "data": {
      "text/plain": [
       "matrix([[ 2.47027811, -0.00743604,  0.01648759, -0.3254342 ,  0.07639411,\n",
       "         -0.17936197, -0.23075733, -0.67082012],\n",
       "        [-0.00743604,  2.91750608, -0.12177164, -0.06498983, -0.07263748,\n",
       "          0.05863168, -0.39869012, -1.10045728],\n",
       "        [ 0.01648759, -0.12177164,  2.54558034, -0.89599744, -0.08418154,\n",
       "         -0.12926085,  0.21274164, -0.01878056],\n",
       "        [-0.3254342 , -0.06498983, -0.89599744,  7.09582732,  0.36511457,\n",
       "         -3.85570548, -0.15364591, -2.62374824],\n",
       "        [ 0.07639411, -0.07263748, -0.08418154,  0.36511457,  2.11290996,\n",
       "         -0.42407224, -0.08124762,  0.37353202],\n",
       "        [-0.17936197,  0.05863168, -0.12926085, -3.85570548, -0.42407224,\n",
       "          4.4893794 ,  0.03900102,  1.0142713 ],\n",
       "        [-0.23075733, -0.39869012,  0.21274164, -0.15364591, -0.08124762,\n",
       "          0.03900102,  2.14819457,  0.24602167],\n",
       "        [-0.67082012, -1.10045728, -0.01878056, -2.62374824,  0.37353202,\n",
       "          1.0142713 ,  0.24602167,  4.88266411]])"
      ]
     },
     "execution_count": 35,
     "metadata": {},
     "output_type": "execute_result"
    }
   ],
   "source": [
    "second_term_a = ((302 - 1) * np.linalg.inv(r_post_no))\n",
    "#print(second_term_a)\n",
    "second_term_b = ((160 - 1) * np.linalg.inv(r_post_yes))\n",
    "#print(second_term_b)\n",
    "second_term = second_term_a + second_term_b  \n",
    "second_term"
   ]
  },
  {
   "cell_type": "code",
   "execution_count": 36,
   "metadata": {},
   "outputs": [
    {
     "data": {
      "text/plain": [
       "460"
      ]
     },
     "execution_count": 36,
     "metadata": {},
     "output_type": "execute_result"
    }
   ],
   "source": [
    "third_term = 302 + 160 -2\n",
    "third_term"
   ]
  },
  {
   "cell_type": "code",
   "execution_count": 37,
   "metadata": {},
   "outputs": [
    {
     "data": {
      "text/plain": [
       "matrix([[ 5.13455804e-05, -1.54560615e-07,  3.42700129e-07,\n",
       "         -6.76426190e-06,  1.58787784e-06, -3.72810036e-06,\n",
       "         -4.79637058e-06, -1.39432269e-05],\n",
       "        [-1.54560615e-07,  6.06413678e-05, -2.53106534e-06,\n",
       "         -1.35083598e-06, -1.50979506e-06,  1.21867964e-06,\n",
       "         -8.28691139e-06, -2.28733833e-05],\n",
       "        [ 3.42700129e-07, -2.53106534e-06,  5.29107633e-05,\n",
       "         -1.86236151e-05, -1.74974237e-06, -2.68673121e-06,\n",
       "          4.42190825e-06, -3.90360407e-07],\n",
       "        [-6.76426190e-06, -1.35083598e-06, -1.86236151e-05,\n",
       "          1.47489212e-04,  7.58903194e-06, -8.01421650e-05,\n",
       "         -3.19358306e-06, -5.45355099e-05],\n",
       "        [ 1.58787784e-06, -1.50979506e-06, -1.74974237e-06,\n",
       "          7.58903194e-06,  4.39175606e-05, -8.81448732e-06,\n",
       "         -1.68875965e-06,  7.76399148e-06],\n",
       "        [-3.72810036e-06,  1.21867964e-06, -2.68673121e-06,\n",
       "         -8.01421650e-05, -8.81448732e-06,  9.33132956e-05,\n",
       "          8.10649630e-07,  2.10819779e-05],\n",
       "        [-4.79637058e-06, -8.28691139e-06,  4.42190825e-06,\n",
       "         -3.19358306e-06, -1.68875965e-06,  8.10649630e-07,\n",
       "          4.46509633e-05,  5.11364506e-06],\n",
       "        [-1.39432269e-05, -2.28733833e-05, -3.90360407e-07,\n",
       "         -5.45355099e-05,  7.76399148e-06,  2.10819779e-05,\n",
       "          5.11364506e-06,  1.01487854e-04]])"
      ]
     },
     "execution_count": 37,
     "metadata": {},
     "output_type": "execute_result"
    }
   ],
   "source": [
    "r_pooled_inv = first_term * (second_term / third_term)\n",
    "r_pooled_inv"
   ]
  },
  {
   "cell_type": "code",
   "execution_count": 38,
   "metadata": {},
   "outputs": [
    {
     "data": {
      "text/plain": [
       "matrix([[22634.37201927,  2819.8341065 ,  2298.51010877,  6447.14372568,\n",
       "         -1776.38873621,  4876.54622765,  2319.6175775 ,  6224.52592272],\n",
       "        [ 2819.8341065 , 19522.4807557 ,  2230.57285531,  4147.13762565,\n",
       "          -703.59765545,  1916.60723558,  3193.83598798,  6519.24788426],\n",
       "        [ 2298.51010877,  2230.57285531, 22299.89840077,  7975.7744902 ,\n",
       "           106.75893262,  6704.61657799, -1537.60523349,  3866.71528686],\n",
       "        [ 6447.14372568,  4147.13762565,  7975.7744902 , 20126.13129316,\n",
       "         -1832.43685184, 15375.40881449,   666.39201642,  9578.78783345],\n",
       "        [-1776.38873621,  -703.59765545,   106.75893262, -1832.43685184,\n",
       "         24083.47399262,  1441.96116442,   830.59012221, -3570.71377638],\n",
       "        [ 4876.54622765,  1916.60723558,  6704.61657799, 15375.40881449,\n",
       "          1441.96116442, 23424.8722169 ,   441.60920142,  4391.27241989],\n",
       "        [ 2319.6175775 ,  3193.83598798, -1537.60523349,   666.39201642,\n",
       "           830.59012221,   441.60920142, 23455.05339139,    53.59349905],\n",
       "        [ 6224.52592272,  6519.24788426,  3866.71528686,  9578.78783345,\n",
       "         -3570.71377638,  4391.27241989,    53.59349905, 16698.2834767 ]])"
      ]
     },
     "execution_count": 38,
     "metadata": {},
     "output_type": "execute_result"
    }
   ],
   "source": [
    "r_pooled = np.linalg.inv(r_pooled_inv)\n",
    "r_pooled"
   ]
  },
  {
   "cell_type": "code",
   "execution_count": 39,
   "metadata": {},
   "outputs": [
    {
     "data": {
      "text/plain": [
       "matrix([[78446.08389658]])"
      ]
     },
     "execution_count": 39,
     "metadata": {},
     "output_type": "execute_result"
    }
   ],
   "source": [
    "t_squared = D.T @ r_pooled @ D\n",
    "t_squared"
   ]
  },
  {
   "cell_type": "code",
   "execution_count": 40,
   "metadata": {},
   "outputs": [
    {
     "data": {
      "text/plain": [
       "matrix([[280.08228058]])"
      ]
     },
     "execution_count": 40,
     "metadata": {},
     "output_type": "execute_result"
    }
   ],
   "source": [
    "t = np.sqrt(t_squared)\n",
    "t"
   ]
  },
  {
   "cell_type": "code",
   "execution_count": null,
   "metadata": {},
   "outputs": [],
   "source": []
  }
 ],
 "metadata": {
  "kernelspec": {
   "display_name": "Python 3",
   "language": "python",
   "name": "python3"
  },
  "language_info": {
   "codemirror_mode": {
    "name": "ipython",
    "version": 3
   },
   "file_extension": ".py",
   "mimetype": "text/x-python",
   "name": "python",
   "nbconvert_exporter": "python",
   "pygments_lexer": "ipython3",
   "version": "3.8.8"
  }
 },
 "nbformat": 4,
 "nbformat_minor": 4
}
